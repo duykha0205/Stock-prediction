{
 "cells": [
  {
   "cell_type": "code",
   "execution_count": 28,
   "metadata": {},
   "outputs": [],
   "source": [
    "import pandas as pd\n",
    "from pandas_datareader.data import DataReader\n",
    "import numpy as np\n",
    "\n",
    "import matplotlib.pyplot as plt\n",
    "import seaborn as sns\n",
    "sns.set_style('whitegrid')\n",
    "plt.style.use(\"fivethirtyeight\")\n",
    "%matplotlib inline\n",
    "from keras.layers import Dense, LSTM\n",
    "from keras.models import Sequential\n",
    "from sklearn.preprocessing import StandardScaler\n",
    "# For time stamps\n",
    "from datetime import datetime\n"
   ]
  },
  {
   "cell_type": "code",
   "execution_count": 29,
   "metadata": {},
   "outputs": [],
   "source": [
    "import os\n",
    "os.environ['KMP_DUPLICATE_LIB_OK']='True'"
   ]
  },
  {
   "cell_type": "code",
   "execution_count": 30,
   "metadata": {},
   "outputs": [
    {
     "data": {
      "text/html": [
       "<div>\n",
       "<style scoped>\n",
       "    .dataframe tbody tr th:only-of-type {\n",
       "        vertical-align: middle;\n",
       "    }\n",
       "\n",
       "    .dataframe tbody tr th {\n",
       "        vertical-align: top;\n",
       "    }\n",
       "\n",
       "    .dataframe thead th {\n",
       "        text-align: right;\n",
       "    }\n",
       "</style>\n",
       "<table border=\"1\" class=\"dataframe\">\n",
       "  <thead>\n",
       "    <tr style=\"text-align: right;\">\n",
       "      <th></th>\n",
       "      <th>High</th>\n",
       "      <th>Low</th>\n",
       "      <th>Open</th>\n",
       "      <th>Close</th>\n",
       "      <th>Volume</th>\n",
       "      <th>Adj Close</th>\n",
       "    </tr>\n",
       "    <tr>\n",
       "      <th>Date</th>\n",
       "      <th></th>\n",
       "      <th></th>\n",
       "      <th></th>\n",
       "      <th></th>\n",
       "      <th></th>\n",
       "      <th></th>\n",
       "    </tr>\n",
       "  </thead>\n",
       "  <tbody>\n",
       "    <tr>\n",
       "      <th>2012-01-03</th>\n",
       "      <td>14.732143</td>\n",
       "      <td>14.607143</td>\n",
       "      <td>14.621429</td>\n",
       "      <td>14.686786</td>\n",
       "      <td>302220800.0</td>\n",
       "      <td>12.575915</td>\n",
       "    </tr>\n",
       "    <tr>\n",
       "      <th>2012-01-04</th>\n",
       "      <td>14.810000</td>\n",
       "      <td>14.617143</td>\n",
       "      <td>14.642857</td>\n",
       "      <td>14.765714</td>\n",
       "      <td>260022000.0</td>\n",
       "      <td>12.643497</td>\n",
       "    </tr>\n",
       "    <tr>\n",
       "      <th>2012-01-05</th>\n",
       "      <td>14.948214</td>\n",
       "      <td>14.738214</td>\n",
       "      <td>14.819643</td>\n",
       "      <td>14.929643</td>\n",
       "      <td>271269600.0</td>\n",
       "      <td>12.783866</td>\n",
       "    </tr>\n",
       "    <tr>\n",
       "      <th>2012-01-06</th>\n",
       "      <td>15.098214</td>\n",
       "      <td>14.972143</td>\n",
       "      <td>14.991786</td>\n",
       "      <td>15.085714</td>\n",
       "      <td>318292800.0</td>\n",
       "      <td>12.917508</td>\n",
       "    </tr>\n",
       "    <tr>\n",
       "      <th>2012-01-09</th>\n",
       "      <td>15.276786</td>\n",
       "      <td>15.048214</td>\n",
       "      <td>15.196429</td>\n",
       "      <td>15.061786</td>\n",
       "      <td>394024400.0</td>\n",
       "      <td>12.897018</td>\n",
       "    </tr>\n",
       "    <tr>\n",
       "      <th>...</th>\n",
       "      <td>...</td>\n",
       "      <td>...</td>\n",
       "      <td>...</td>\n",
       "      <td>...</td>\n",
       "      <td>...</td>\n",
       "      <td>...</td>\n",
       "    </tr>\n",
       "    <tr>\n",
       "      <th>2022-02-09</th>\n",
       "      <td>176.649994</td>\n",
       "      <td>174.899994</td>\n",
       "      <td>176.050003</td>\n",
       "      <td>176.279999</td>\n",
       "      <td>71285000.0</td>\n",
       "      <td>176.279999</td>\n",
       "    </tr>\n",
       "    <tr>\n",
       "      <th>2022-02-10</th>\n",
       "      <td>175.479996</td>\n",
       "      <td>171.550003</td>\n",
       "      <td>174.139999</td>\n",
       "      <td>172.119995</td>\n",
       "      <td>90865900.0</td>\n",
       "      <td>172.119995</td>\n",
       "    </tr>\n",
       "    <tr>\n",
       "      <th>2022-02-11</th>\n",
       "      <td>173.080002</td>\n",
       "      <td>168.039993</td>\n",
       "      <td>172.330002</td>\n",
       "      <td>168.639999</td>\n",
       "      <td>98566000.0</td>\n",
       "      <td>168.639999</td>\n",
       "    </tr>\n",
       "    <tr>\n",
       "      <th>2022-02-14</th>\n",
       "      <td>169.580002</td>\n",
       "      <td>166.559998</td>\n",
       "      <td>167.369995</td>\n",
       "      <td>168.880005</td>\n",
       "      <td>86062800.0</td>\n",
       "      <td>168.880005</td>\n",
       "    </tr>\n",
       "    <tr>\n",
       "      <th>2022-02-15</th>\n",
       "      <td>172.949997</td>\n",
       "      <td>170.250000</td>\n",
       "      <td>170.970001</td>\n",
       "      <td>172.789993</td>\n",
       "      <td>62527400.0</td>\n",
       "      <td>172.789993</td>\n",
       "    </tr>\n",
       "  </tbody>\n",
       "</table>\n",
       "<p>2548 rows × 6 columns</p>\n",
       "</div>"
      ],
      "text/plain": [
       "                  High         Low        Open       Close       Volume  \\\n",
       "Date                                                                      \n",
       "2012-01-03   14.732143   14.607143   14.621429   14.686786  302220800.0   \n",
       "2012-01-04   14.810000   14.617143   14.642857   14.765714  260022000.0   \n",
       "2012-01-05   14.948214   14.738214   14.819643   14.929643  271269600.0   \n",
       "2012-01-06   15.098214   14.972143   14.991786   15.085714  318292800.0   \n",
       "2012-01-09   15.276786   15.048214   15.196429   15.061786  394024400.0   \n",
       "...                ...         ...         ...         ...          ...   \n",
       "2022-02-09  176.649994  174.899994  176.050003  176.279999   71285000.0   \n",
       "2022-02-10  175.479996  171.550003  174.139999  172.119995   90865900.0   \n",
       "2022-02-11  173.080002  168.039993  172.330002  168.639999   98566000.0   \n",
       "2022-02-14  169.580002  166.559998  167.369995  168.880005   86062800.0   \n",
       "2022-02-15  172.949997  170.250000  170.970001  172.789993   62527400.0   \n",
       "\n",
       "             Adj Close  \n",
       "Date                    \n",
       "2012-01-03   12.575915  \n",
       "2012-01-04   12.643497  \n",
       "2012-01-05   12.783866  \n",
       "2012-01-06   12.917508  \n",
       "2012-01-09   12.897018  \n",
       "...                ...  \n",
       "2022-02-09  176.279999  \n",
       "2022-02-10  172.119995  \n",
       "2022-02-11  168.639999  \n",
       "2022-02-14  168.880005  \n",
       "2022-02-15  172.789993  \n",
       "\n",
       "[2548 rows x 6 columns]"
      ]
     },
     "execution_count": 30,
     "metadata": {},
     "output_type": "execute_result"
    }
   ],
   "source": [
    "from pandas_datareader.data import DataReader\n",
    "from datetime import datetime\n",
    "\n",
    "df = DataReader('AAPL', data_source='yahoo', start='2012-01-01', end=datetime.now())\n",
    "df"
   ]
  },
  {
   "cell_type": "code",
   "execution_count": 31,
   "metadata": {},
   "outputs": [
    {
     "name": "stdout",
     "output_type": "stream",
     "text": [
      "[array([-0.87959679, -0.87765973, -0.87363656, -0.86980622, -0.87039348,\n",
      "       -0.86906997, -0.86967476, -0.8706915 , -0.87207639, -0.86779026,\n",
      "       -0.86392487, -0.86511692, -0.8716469 , -0.86541494, -0.87155047,\n",
      "       -0.8485422 , -0.85032149, -0.84799876, -0.84297639, -0.83993493,\n",
      "       -0.84018911, -0.84112696, -0.8371301 , -0.83336991, -0.82911006,\n",
      "       -0.82222949, -0.80777592, -0.8075568 , -0.79951046, -0.79349766,\n",
      "       -0.80383163, -0.79985232, -0.79993119, -0.78877327, -0.79035977,\n",
      "       -0.78742349, -0.78214692, -0.7792106 , -0.77075232, -0.76459052,\n",
      "       -0.76281121, -0.76218887, -0.77272445, -0.77526635, -0.77488943,\n",
      "       -0.7649849 , -0.76219762, -0.75621108, -0.74209937, -0.72327202,\n",
      "       -0.72679558, -0.72678683, -0.71317468, -0.70891484, -0.71194759,\n",
      "       -0.71471732, -0.71760103, -0.70802085, -0.70144702, -0.6986948 ])]\n",
      "[-0.7054965025513353]\n",
      "\n",
      "[array([-0.87959679, -0.87765973, -0.87363656, -0.86980622, -0.87039348,\n",
      "       -0.86906997, -0.86967476, -0.8706915 , -0.87207639, -0.86779026,\n",
      "       -0.86392487, -0.86511692, -0.8716469 , -0.86541494, -0.87155047,\n",
      "       -0.8485422 , -0.85032149, -0.84799876, -0.84297639, -0.83993493,\n",
      "       -0.84018911, -0.84112696, -0.8371301 , -0.83336991, -0.82911006,\n",
      "       -0.82222949, -0.80777592, -0.8075568 , -0.79951046, -0.79349766,\n",
      "       -0.80383163, -0.79985232, -0.79993119, -0.78877327, -0.79035977,\n",
      "       -0.78742349, -0.78214692, -0.7792106 , -0.77075232, -0.76459052,\n",
      "       -0.76281121, -0.76218887, -0.77272445, -0.77526635, -0.77488943,\n",
      "       -0.7649849 , -0.76219762, -0.75621108, -0.74209937, -0.72327202,\n",
      "       -0.72679558, -0.72678683, -0.71317468, -0.70891484, -0.71194759,\n",
      "       -0.71471732, -0.71760103, -0.70802085, -0.70144702, -0.6986948 ]), array([-0.87765973, -0.87363656, -0.86980622, -0.87039348, -0.86906997,\n",
      "       -0.86967476, -0.8706915 , -0.87207639, -0.86779026, -0.86392487,\n",
      "       -0.86511692, -0.8716469 , -0.86541494, -0.87155047, -0.8485422 ,\n",
      "       -0.85032149, -0.84799876, -0.84297639, -0.83993493, -0.84018911,\n",
      "       -0.84112696, -0.8371301 , -0.83336991, -0.82911006, -0.82222949,\n",
      "       -0.80777592, -0.8075568 , -0.79951046, -0.79349766, -0.80383163,\n",
      "       -0.79985232, -0.79993119, -0.78877327, -0.79035977, -0.78742349,\n",
      "       -0.78214692, -0.7792106 , -0.77075232, -0.76459052, -0.76281121,\n",
      "       -0.76218887, -0.77272445, -0.77526635, -0.77488943, -0.7649849 ,\n",
      "       -0.76219762, -0.75621108, -0.74209937, -0.72327202, -0.72679558,\n",
      "       -0.72678683, -0.71317468, -0.70891484, -0.71194759, -0.71471732,\n",
      "       -0.71760103, -0.70802085, -0.70144702, -0.6986948 , -0.7054965 ])]\n",
      "[-0.7054965025513353, -0.7145332591304866]\n",
      "\n"
     ]
    }
   ],
   "source": [
    "from sklearn.preprocessing import StandardScaler\n",
    "import numpy as np\n",
    "\n",
    "data = df.filter(['Close'])\n",
    "# Convert the dataframe to a numpy array\n",
    "dataset = data.values\n",
    "# Get the number of rows to train the model on\n",
    "training_data_len = int(np.ceil( len(dataset) * .95 ))\n",
    "\n",
    "scaler = StandardScaler()\n",
    "scaler = scaler.fit(dataset)\n",
    "dataset_scaled = scaler.transform(dataset)\n",
    "\n",
    "# Create the training data set \n",
    "# Create the scaled training data set\n",
    "train_data = dataset_scaled[0:int(training_data_len), :]\n",
    "# Split the data into x_train and y_train data sets\n",
    "x_train = []\n",
    "y_train = []\n",
    "\n",
    "for i in range(60, len(train_data)):\n",
    "    x_train.append(train_data[i-60:i, 0])\n",
    "    y_train.append(train_data[i, 0])\n",
    "    if i<= 61:\n",
    "        print(x_train)\n",
    "        print(y_train)\n",
    "        print()\n",
    "        \n",
    "# Convert the x_train and y_train to numpy arrays \n",
    "x_train, y_train = np.array(x_train), np.array(y_train)\n",
    "\n",
    "# Reshape the data\n",
    "x_train = np.reshape(x_train, (x_train.shape[0], x_train.shape[1], 1))\n",
    "# x_train.shape"
   ]
  },
  {
   "cell_type": "code",
   "execution_count": 32,
   "metadata": {},
   "outputs": [],
   "source": [
    "\n",
    "from keras.layers import Dense, LSTM\n",
    "from keras.models import Sequential"
   ]
  },
  {
   "cell_type": "code",
   "execution_count": 33,
   "metadata": {},
   "outputs": [
    {
     "data": {
      "text/plain": [
       "(2361, 60, 1)"
      ]
     },
     "execution_count": 33,
     "metadata": {},
     "output_type": "execute_result"
    }
   ],
   "source": [
    "x_train.shape"
   ]
  },
  {
   "cell_type": "code",
   "execution_count": 34,
   "metadata": {},
   "outputs": [
    {
     "data": {
      "text/plain": [
       "(2361,)"
      ]
     },
     "execution_count": 34,
     "metadata": {},
     "output_type": "execute_result"
    }
   ],
   "source": [
    "y_train.shape"
   ]
  },
  {
   "cell_type": "code",
   "execution_count": 35,
   "metadata": {},
   "outputs": [],
   "source": [
    "# Build the LSTM model\n",
    "model = Sequential()\n",
    "model.add(LSTM(128, return_sequences=True, input_shape= (x_train.shape[1], x_train.shape[2])))\n",
    "model.add(LSTM(64, return_sequences=False))\n",
    "model.add(Dense(25))\n",
    "model.add(Dense(1))"
   ]
  },
  {
   "cell_type": "code",
   "execution_count": 36,
   "metadata": {},
   "outputs": [
    {
     "name": "stdout",
     "output_type": "stream",
     "text": [
      "Model: \"sequential\"\n",
      "_________________________________________________________________\n",
      " Layer (type)                Output Shape              Param #   \n",
      "=================================================================\n",
      " lstm (LSTM)                 (None, 60, 128)           66560     \n",
      "                                                                 \n",
      " lstm_1 (LSTM)               (None, 64)                49408     \n",
      "                                                                 \n",
      " dense (Dense)               (None, 25)                1625      \n",
      "                                                                 \n",
      " dense_1 (Dense)             (None, 1)                 26        \n",
      "                                                                 \n",
      "=================================================================\n",
      "Total params: 117,619\n",
      "Trainable params: 117,619\n",
      "Non-trainable params: 0\n",
      "_________________________________________________________________\n"
     ]
    }
   ],
   "source": [
    "model.summary()"
   ]
  },
  {
   "cell_type": "code",
   "execution_count": 37,
   "metadata": {},
   "outputs": [
    {
     "name": "stdout",
     "output_type": "stream",
     "text": [
      "2361/2361 [==============================] - 57s 23ms/step - loss: 0.0095\n"
     ]
    }
   ],
   "source": [
    "# Compile the model\n",
    "model.compile(optimizer='adam', loss='mean_squared_error')\n",
    "\n",
    "# Train the model\n",
    "model.fit(x_train, y_train, batch_size=1, epochs=1)\n",
    "\n",
    "test_data = dataset_scaled[training_data_len - 60: , :]\n",
    "# Create the data sets x_test and y_test\n",
    "x_test = []\n",
    "y_test = dataset[training_data_len:, :]\n",
    "for i in range(60, len(test_data)):\n",
    "    x_test.append(test_data[i-60:i, 0])\n",
    "    \n",
    "# Convert the data to a numpy array\n",
    "x_test = np.array(x_test)\n",
    "\n",
    "# Reshape the data\n",
    "x_test = np.reshape(x_test, (x_test.shape[0], x_test.shape[1], 1 ))\n",
    "\n",
    "# Get the models predicted price values \n",
    "predictions = model.predict(x_test)\n",
    "predictions = scaler.inverse_transform(predictions)\n",
    "\n",
    "# Get the root mean squared error (RMSE)\n",
    "rmse = np.sqrt(np.mean(((predictions - y_test) ** 2)))"
   ]
  },
  {
   "cell_type": "code",
   "execution_count": 38,
   "metadata": {},
   "outputs": [
    {
     "name": "stderr",
     "output_type": "stream",
     "text": [
      "C:\\Users\\duykh\\AppData\\Local\\Temp/ipykernel_16068/408398848.py:8: SettingWithCopyWarning: \n",
      "A value is trying to be set on a copy of a slice from a DataFrame.\n",
      "Try using .loc[row_indexer,col_indexer] = value instead\n",
      "\n",
      "See the caveats in the documentation: https://pandas.pydata.org/pandas-docs/stable/user_guide/indexing.html#returning-a-view-versus-a-copy\n",
      "  valid['Predictions'] = predictions\n"
     ]
    },
    {
     "data": {
      "image/png": "[encoded data removed]",
      "text/plain": [
       "<Figure size 1152x432 with 1 Axes>"
      ]
     },
     "metadata": {},
     "output_type": "display_data"
    }
   ],
   "source": [
    "import matplotlib.pyplot as plt\n",
    "import seaborn as sns\n",
    "sns.set_style('whitegrid')\n",
    "plt.style.use(\"fivethirtyeight\")\n",
    "\n",
    "train = data[:training_data_len]\n",
    "valid = data[training_data_len:]\n",
    "valid['Predictions'] = predictions\n",
    "# Visualize the data\n",
    "plt.figure(figsize=(16,6))\n",
    "plt.title('Model')\n",
    "plt.xlabel('Date', fontsize=18)\n",
    "plt.ylabel('Close Price USD ($)', fontsize=18)\n",
    "plt.plot(train['Close'])\n",
    "plt.plot(valid[['Close', 'Predictions']])\n",
    "plt.legend(['Train', 'Val', 'Predictions'], loc='lower right')\n",
    "plt.show()"
   ]
  },
  {
   "cell_type": "code",
   "execution_count": 39,
   "metadata": {},
   "outputs": [],
   "source": [
    "import tensorflow as tf\n",
    "tf.keras.backend.clear_session()"
   ]
  },
  {
   "cell_type": "code",
   "execution_count": null,
   "metadata": {},
   "outputs": [],
   "source": []
  }
 ],
 "metadata": {
  "interpreter": {
   "hash": "20047b74b5352e234783a8a6c76d895522278992693f0195e152c61aa39452fc"
  },
  "kernelspec": {
   "display_name": "Python 3 (ipykernel)",
   "language": "python",
   "name": "python3"
  },
  "language_info": {
   "codemirror_mode": {
    "name": "ipython",
    "version": 3
   },
   "file_extension": ".py",
   "mimetype": "text/x-python",
   "name": "python",
   "nbconvert_exporter": "python",
   "pygments_lexer": "ipython3",
   "version": "3.8.12"
  }
 },
 "nbformat": 4,
 "nbformat_minor": 2
}
